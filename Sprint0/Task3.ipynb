{
 "cells": [
  {
   "cell_type": "markdown",
   "metadata": {},
   "source": [
    "<h1 style=\"color:DodgerBlue\">Индивидальный проект</h1>"
   ]
  },
  {
   "cell_type": "markdown",
   "metadata": {},
   "source": [
    "<h2 style=\"color:DodgerBlue\">Название проекта:</h2>\n",
    "\n",
    "----\n",
    "\n",
    "### Вариант задания № 8\n"
   ]
  },
  {
   "cell_type": "markdown",
   "metadata": {},
   "source": [
    "<h2 style=\"color:DodgerBlue\">Описание проекта:</h2>\n",
    "\n",
    "----\n",
    "\n",
    "Описание задачи:\n",
    "\n",
    "Создать базовый класс CreditCard в C#, который будет представлять информацию о кредитных картах. На основе этого класса разработать 2-3 производных класса, демонстрирующих принципы наследования и полиморфизма. В каждом из классов должны быть реализованы новые атрибуты и методы, а также переопределены некоторые методы базового класса для демонстрации полиморфизма.\n",
    "\n",
    "Требования к базовому классу CreditCard:\n",
    "\n",
    "• Атрибуты: Номер карты (CardNumber), Холдера (HolderName), Срок\n",
    "действия (ExpiryDate).\n",
    "\n",
    "• Методы:\n",
    "\n",
    "o GetInfo(): метод для получения информации о кредитной карте в виде\n",
    "строки.\n",
    "o Pay(): метод для оплаты покупки с использованием карты.\n",
    "o CheckBalance(): метод для проверки баланса на карте.\n",
    "\n",
    "Требования к производным классам:\n",
    "1. GoldCard (GoldCreditCard): Должен содержать дополнительные атрибуты, такие как Бесплатные бонусные мили (BonusMiles). Метод Pay() должен быть переопределен для добавления информации о получении бонусных миль при оплате покупки.\n",
    "2. PremiumCard (PremiumCreditCard): Должен содержать дополнительные атрибуты, такие как Ассистент поддержки (SupportAssistant). Метод CheckBalance() должен быть переопределен для предоставления возможности обратиться за помощью к ассистенту поддержки в случае проблем с балансом.\n",
    "3. CorporateCard (CorporateCreditCard) (если требуется третий класс): Должен содержать дополнительные атрибуты, такие как Компания (Company). Метод GetInfo() должен быть переопределен для включения информации о компании в описании карты."
   ]
  },
  {
   "cell_type": "markdown",
   "metadata": {},
   "source": [
    "<h2 style=\"color:DodgerBlue\">Реализация:</h2>\n",
    "\n",
    "----"
   ]
  },
  {
   "cell_type": "code",
   "execution_count": 2,
   "metadata": {
    "dotnet_interactive": {
     "language": "csharp"
    },
    "polyglot_notebook": {
     "kernelName": "csharp"
    }
   },
   "outputs": [
    {
     "name": "stdout",
     "output_type": "stream",
     "text": [
      "Информация о кредитной карте: \n",
      "Номер карты: 1111 1111 1111 1111, Владелец: Максимка Витаминка, Срок действия: 07/07/2027, Бонусных миль: 777\n",
      "Оплата 10000 рублей успешно произведена. Баланс карты: 990000\n",
      "Получено 1000 бонусных миль. Всего бонусных миль: 1777\n",
      "\n",
      "Информация о кредитной карте: \n",
      "Номер карты: 3333 3333 3333 3333, Владелец: Максимка Витаминка, Срок действия: 08/08/28, Ассистент поддержки: Илья Вячеславович\n",
      "Баланс карты: 500000\n",
      "\n",
      "Информация о кредитной карте: \n",
      "Номер карты: 7777 7777 7777 7777, Владелец: Максимка Витаминка, Срок действия: 30/03/2030, Компания: Арбуз.нет\n"
     ]
    }
   ],
   "source": [
    "public class CreditCard\n",
    "{\n",
    "   public string CardNumber;\n",
    "   public string HolderName;\n",
    "   public string ExpiryDate;\n",
    "   public decimal Balance;\n",
    "\n",
    "   public CreditCard (string myCardNumber, string myHolderName, string myExpiryDate, decimal myBalance)\n",
    "    {\n",
    "        CardNumber = myCardNumber;\n",
    "        HolderName = myHolderName;\n",
    "        ExpiryDate = myExpiryDate;\n",
    "        Balance = myBalance;\n",
    "    }\n",
    "\n",
    "   public virtual string GetInfo()\n",
    "   {\n",
    "      return($\"Информация о кредитной карте: \\nНомер карты: {CardNumber}, Владелец: {HolderName}, Срок действия: {ExpiryDate}\");\n",
    "   }\n",
    "\n",
    "   public virtual void Pay(decimal Minus)\n",
    "    {\n",
    "        if (Minus > Balance)\n",
    "        {\n",
    "            Console.WriteLine(\"На вашем счете недостаточно средств\");\n",
    "        }\n",
    "        else\n",
    "        {\n",
    "            Balance -= Minus;\n",
    "            Console.WriteLine($\"Оплата {Minus} рублей успешно произведена. Баланс карты: {Balance}\");\n",
    "        }\n",
    "    }\n",
    "\n",
    "    public virtual void CheckBalance()\n",
    "    {\n",
    "        Console.WriteLine($\"Баланс карты: {Balance}\");\n",
    "    }\n",
    "}\n",
    "\n",
    "public class GoldCard : CreditCard\n",
    "{\n",
    "    public decimal BonusMiles;\n",
    "    public GoldCard(string myCardNumber, string myHolderName, string myExpiryDate, decimal myBalance, decimal myBonusMiles) : base(myCardNumber, myHolderName, myExpiryDate, myBalance)\n",
    "    {\n",
    "        BonusMiles = myBonusMiles;\n",
    "    }\n",
    "\n",
    "    public override void Pay(decimal Minus)\n",
    "    {\n",
    "        base.Pay(Minus);\n",
    "        int bonusMiles = (int)((int)Minus * 0.1);\n",
    "        BonusMiles += bonusMiles;\n",
    "        Console.WriteLine($\"Получено {bonusMiles} бонусных миль. Всего бонусных миль: {BonusMiles}\"); \n",
    "    }\n",
    "    public override string GetInfo()\n",
    "    {\n",
    "        return base.GetInfo() + $\", Бонусных миль: {BonusMiles}\";\n",
    "    }\n",
    "}\n",
    "\n",
    "public class PremiumCard : CreditCard\n",
    "{public string SupportAssistant;\n",
    "\n",
    "    public PremiumCard(string myCardNumber, string myHolderName, string myExpiryDate, decimal myBalance, string mySupportAssistant) : base(myCardNumber, myHolderName, myExpiryDate, myBalance)\n",
    "    {\n",
    "        SupportAssistant = mySupportAssistant;\n",
    "    }\n",
    "\n",
    "    public override void CheckBalance()\n",
    "    {\n",
    "        base.CheckBalance();\n",
    "        if (Balance <= 0)\n",
    "        {\n",
    "            Console.WriteLine($\"Проблема с балансов (на счету недостаточно средств) обратитесь к ассистенту поддержки: {SupportAssistant}.\");\n",
    "        }\n",
    "    }\n",
    "\n",
    "    public override string GetInfo()\n",
    "    {\n",
    "        return base.GetInfo() + $\", Ассистент поддержки: {SupportAssistant}\";\n",
    "    }\n",
    "}\n",
    "\n",
    "public class CorporateCard : CreditCard\n",
    "{\n",
    "    public string Company;\n",
    "\n",
    "    public CorporateCard(string myCardNumber, string myHolderName, string myExpiryDate, decimal myBalance, string myCompany) : base(myCardNumber, myHolderName, myExpiryDate, myBalance)\n",
    "    {\n",
    "        Company = myCompany;\n",
    "    }\n",
    "\n",
    "    public override string GetInfo()\n",
    "    {\n",
    "        return base.GetInfo() + $\", Компания: {Company}\";\n",
    "    }\n",
    "}\n",
    "\n",
    "CreditCard myGoldCard = new GoldCard(\"1111 1111 1111 1111\", \"Максимка Витаминка\", \"07/07/2027\", 1000000, 777);\n",
    "CreditCard myPremiumCard = new PremiumCard(\"3333 3333 3333 3333\", \"Максимка Витаминка\", \"08/08/28\", 500000, \"Илья Вячеславович\");\n",
    "CreditCard myCorporateCard = new CorporateCard(\"7777 7777 7777 7777\", \"Максимка Витаминка\", \"30/03/2030\", 0, \"Арбуз.нет\");\n",
    "\n",
    "    \n",
    "Console.WriteLine(myGoldCard.GetInfo());\n",
    "myGoldCard.Pay(10000);\n",
    "\n",
    "Console.WriteLine();\n",
    "Console.WriteLine(myPremiumCard.GetInfo());\n",
    "myPremiumCard.CheckBalance();\n",
    "\n",
    "Console.WriteLine();\n",
    "Console.WriteLine(myCorporateCard.GetInfo());\n"
   ]
  }
 ],
 "metadata": {
  "kernelspec": {
   "display_name": ".NET (C#)",
   "language": "C#",
   "name": ".net-csharp"
  },
  "polyglot_notebook": {
   "kernelInfo": {
    "defaultKernelName": "csharp",
    "items": [
     {
      "aliases": [],
      "languageName": "csharp",
      "name": "csharp"
     }
    ]
   }
  }
 },
 "nbformat": 4,
 "nbformat_minor": 2
}
