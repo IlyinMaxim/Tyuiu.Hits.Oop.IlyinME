{
 "cells": [
  {
   "cell_type": "markdown",
   "metadata": {},
   "source": [
    "<h1 style=\"color:DodgerBlue\">Индивидальный проект</h1>"
   ]
  },
  {
   "cell_type": "markdown",
   "metadata": {},
   "source": [
    "<h2 style=\"color:DodgerBlue\">Название проекта:</h2>\n",
    "\n",
    "----\n",
    "\n",
    "### Вариант задания № 8\n"
   ]
  },
  {
   "cell_type": "markdown",
   "metadata": {},
   "source": [
    "<h2 style=\"color:DodgerBlue\">Описание проекта:</h2>\n",
    "\n",
    "----\n",
    "\n",
    "Описание задачи:\n",
    "\n",
    "Создать базовый класс CreditCard в C#, который будет представлять информацию о кредитных картах. На основе этого класса разработать 2-3 производных класса, демонстрирующих принципы наследования и полиморфизма. В каждом из классов должны быть реализованы новые атрибуты и методы, а также переопределены некоторые методы базового класса для демонстрации полиморфизма.\n",
    "\n",
    "Требования к базовому классу CreditCard:\n",
    "\n",
    "• Атрибуты: Номер карты (CardNumber), Холдера (HolderName), Срок\n",
    "действия (ExpiryDate).\n",
    "\n",
    "• Методы:\n",
    "\n",
    "o GetInfo(): метод для получения информации о кредитной карте в виде\n",
    "строки.\n",
    "o Pay(): метод для оплаты покупки с использованием карты.\n",
    "o CheckBalance(): метод для проверки баланса на карте.\n",
    "\n",
    "Требования к производным классам:\n",
    "1. GoldCard (GoldCreditCard): Должен содержать дополнительные атрибуты, такие как Бесплатные бонусные мили (BonusMiles). Метод Pay() должен быть переопределен для добавления информации о получении бонусных миль при оплате покупки.\n",
    "2. PremiumCard (PremiumCreditCard): Должен содержать дополнительные атрибуты, такие как Ассистент поддержки (SupportAssistant). Метод CheckBalance() должен быть переопределен для предоставления возможности обратиться за помощью к ассистенту поддержки в случае проблем с балансом.\n",
    "3. CorporateCard (CorporateCreditCard) (если требуется третий класс): Должен содержать дополнительные атрибуты, такие как Компания (Company). Метод GetInfo() должен быть переопределен для включения информации о компании в описании карты."
   ]
  },
  {
   "cell_type": "markdown",
   "metadata": {},
   "source": [
    "<h2 style=\"color:DodgerBlue\">Реализация:</h2>\n",
    "\n",
    "----"
   ]
  },
  {
   "cell_type": "code",
   "execution_count": 2,
   "metadata": {
    "dotnet_interactive": {
     "language": "csharp"
    },
    "polyglot_notebook": {
     "kernelName": "csharp"
    }
   },
   "outputs": [
    {
     "name": "stdout",
     "output_type": "stream",
     "text": [
      "Информация о кредитной карте: Номер карты: 1111 1111 1111 1111, Владелец: Ilin Maxim, Срок действия: до 08/28\n",
      "\n",
      "Оплата 1000 рублей успешно произведена. Получено 100 бонусных миль.\n",
      "\n",
      "Баланс карты 1000000. Обратитесь за помощью к ассистенту поддержки Artem Evgenevich в случае проблем.\n",
      "\n",
      "Информация о кредитной карте: Номер карты: 1111 1111 1111 1111, Владелец: Ilin Maxim, Срок действия: до 08/28, Компания: ArbuzBank\n"
     ]
    }
   ],
   "source": [
    "public class CreditCard\n",
    "{\n",
    "   public string CardNumber = \"1111 1111 1111 1111\";\n",
    "   public string HolderName = \"Ilin Maxim\";\n",
    "   public string ExpiryDate = \"до 08/28\";\n",
    "   \n",
    "\n",
    "   public virtual void GetInfo()\n",
    "   {\n",
    "      Console.WriteLine($\"Информация о кредитной карте: Номер карты: {CardNumber}, Владелец: {HolderName}, Срок действия: {ExpiryDate}\");\n",
    "   }\n",
    "\n",
    "   public virtual void Pay(decimal amount)\n",
    "    {\n",
    "        Console.WriteLine($\"Оплата {amount} рублей успешно произведена.\");\n",
    "    }\n",
    "\n",
    "    public virtual void CheckBalance(decimal amount)\n",
    "    {\n",
    "        Console.WriteLine($\"Баланс карты {amount}.\");\n",
    "    }\n",
    "}\n",
    "\n",
    "public class GoldCard : CreditCard\n",
    "{\n",
    "    public int BonusMiles { get; set; }\n",
    "\n",
    "    public override void Pay(decimal amount)\n",
    "    {\n",
    "        int bonusMiles = (int)((int)(amount) * 0.1);\n",
    "\n",
    "        Console.WriteLine($\"Оплата {amount} рублей успешно произведена. Получено {bonusMiles} бонусных миль.\");\n",
    "        BonusMiles += bonusMiles;\n",
    "    }\n",
    "}\n",
    "\n",
    "public class PremiumCard : CreditCard\n",
    "{\n",
    "    public string SupportAssistant = \"Artem Evgenevich\";\n",
    "\n",
    "    public override void CheckBalance(decimal amount)\n",
    "    {\n",
    "        Console.WriteLine($\"Баланс карты {amount}. Обратитесь за помощью к ассистенту поддержки {SupportAssistant} в случае проблем.\");\n",
    "    }\n",
    "}\n",
    "\n",
    "public class CorporateCard : CreditCard\n",
    "{\n",
    "    public string Company = \"ArbuzBank\";\n",
    "\n",
    "    public override void GetInfo()\n",
    "    {\n",
    "        Console.WriteLine($\"Информация о кредитной карте: Номер карты: {CardNumber}, Владелец: {HolderName}, Срок действия: {ExpiryDate}, Компания: {Company}\");\n",
    "    }\n",
    "}\n",
    "CreditCard CreditCard1 = new CreditCard();\n",
    "CreditCard1.GetInfo();\n",
    "\n",
    "Console.WriteLine();\n",
    "\n",
    "GoldCard GoldCard1 = new GoldCard();\n",
    "GoldCard1.Pay(1000);\n",
    "\n",
    "Console.WriteLine();\n",
    "\n",
    "PremiumCard PremiumCard1 = new PremiumCard();\n",
    "PremiumCard1.CheckBalance(1000000);\n",
    "\n",
    "Console.WriteLine();\n",
    "\n",
    "CorporateCard CorporateCard1 = new CorporateCard();\n",
    "CorporateCard1.GetInfo();\n"
   ]
  }
 ],
 "metadata": {
  "kernelspec": {
   "display_name": ".NET (C#)",
   "language": "C#",
   "name": ".net-csharp"
  },
  "polyglot_notebook": {
   "kernelInfo": {
    "defaultKernelName": "csharp",
    "items": [
     {
      "aliases": [],
      "languageName": "csharp",
      "name": "csharp"
     }
    ]
   }
  }
 },
 "nbformat": 4,
 "nbformat_minor": 2
}
